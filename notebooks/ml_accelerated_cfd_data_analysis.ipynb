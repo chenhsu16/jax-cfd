{
  "cells": [
    {
      "cell_type": "markdown",
      "metadata": {
        "id": "SCWieCN1c_oP"
      },
      "source": [
        "# ML accelerated CFD data analysis\n",
        "\n",
        "This notebook reproduces key figures in our [PNAS paper](https://www.pnas.org/content/118/21/e2101784118) based on saved datasets. The data is stored in netCDF files in Google Cloud Storage, and the analysis uses xarray and JAX-CFD.\n",
        "\n",
        "> Indented block\n",
        "\n"
      ]
    },
    {
      "cell_type": "code",
      "execution_count": 1,
      "metadata": {
        "colab": {
          "base_uri": "https://localhost:8080/"
        },
        "executionInfo": {
          "elapsed": 12165,
          "status": "ok",
          "timestamp": 1635551082356,
          "user": {
            "displayName": "Stephan Hoyer",
            "photoUrl": "https://lh3.googleusercontent.com/a-/AOh14Gh3-wMvU44jUaVFR9jlCY_2pss4FrdtAZbLsUaV=s64",
            "userId": "01386112912994523038"
          },
          "user_tz": 420
        },
        "id": "dq5Hou4QzH0Q",
        "outputId": "74a35f28-bc46-4678-bef4-a696f79bb482"
      },
      "outputs": [
        {
          "name": "stdout",
          "output_type": "stream",
          "text": [
            "Requirement already satisfied: xarray in c:\\users\\chenh\\anaconda3\\envs\\mlcfdpaper14\\lib\\site-packages (2025.1.2)\n",
            "Requirement already satisfied: jax-cfd==0.1.0 in c:\\users\\chenh\\anaconda3\\envs\\mlcfdpaper14\\lib\\site-packages (from jax-cfd[data]==0.1.0) (0.1.0)\n",
            "Requirement already satisfied: jax in c:\\users\\chenh\\anaconda3\\envs\\mlcfdpaper14\\lib\\site-packages (from jax-cfd==0.1.0->jax-cfd[data]==0.1.0) (0.5.0)\n",
            "Requirement already satisfied: numpy in c:\\users\\chenh\\anaconda3\\envs\\mlcfdpaper14\\lib\\site-packages (from jax-cfd==0.1.0->jax-cfd[data]==0.1.0) (2.2.2)\n",
            "Requirement already satisfied: scipy in c:\\users\\chenh\\anaconda3\\envs\\mlcfdpaper14\\lib\\site-packages (from jax-cfd==0.1.0->jax-cfd[data]==0.1.0) (1.15.1)\n",
            "Requirement already satisfied: matplotlib in c:\\users\\chenh\\anaconda3\\envs\\mlcfdpaper14\\lib\\site-packages (from jax-cfd[data]==0.1.0) (3.10.0)\n",
            "Requirement already satisfied: seaborn in c:\\users\\chenh\\anaconda3\\envs\\mlcfdpaper14\\lib\\site-packages (from jax-cfd[data]==0.1.0) (0.13.2)\n",
            "Requirement already satisfied: Pillow in c:\\users\\chenh\\anaconda3\\envs\\mlcfdpaper14\\lib\\site-packages (from jax-cfd[data]==0.1.0) (11.1.0)\n",
            "Requirement already satisfied: packaging>=23.2 in c:\\users\\chenh\\anaconda3\\envs\\mlcfdpaper14\\lib\\site-packages (from xarray) (24.2)\n",
            "Requirement already satisfied: pandas>=2.1 in c:\\users\\chenh\\anaconda3\\envs\\mlcfdpaper14\\lib\\site-packages (from xarray) (2.2.3)\n",
            "Requirement already satisfied: python-dateutil>=2.8.2 in c:\\users\\chenh\\anaconda3\\envs\\mlcfdpaper14\\lib\\site-packages (from pandas>=2.1->xarray) (2.9.0.post0)\n",
            "Requirement already satisfied: pytz>=2020.1 in c:\\users\\chenh\\anaconda3\\envs\\mlcfdpaper14\\lib\\site-packages (from pandas>=2.1->xarray) (2025.1)\n",
            "Requirement already satisfied: tzdata>=2022.7 in c:\\users\\chenh\\anaconda3\\envs\\mlcfdpaper14\\lib\\site-packages (from pandas>=2.1->xarray) (2025.1)\n",
            "Requirement already satisfied: jaxlib<=0.5.0,>=0.5.0 in c:\\users\\chenh\\anaconda3\\envs\\mlcfdpaper14\\lib\\site-packages (from jax->jax-cfd==0.1.0->jax-cfd[data]==0.1.0) (0.5.0)\n",
            "Requirement already satisfied: ml_dtypes>=0.4.0 in c:\\users\\chenh\\anaconda3\\envs\\mlcfdpaper14\\lib\\site-packages (from jax->jax-cfd==0.1.0->jax-cfd[data]==0.1.0) (0.5.1)\n",
            "Requirement already satisfied: opt_einsum in c:\\users\\chenh\\anaconda3\\envs\\mlcfdpaper14\\lib\\site-packages (from jax->jax-cfd==0.1.0->jax-cfd[data]==0.1.0) (3.4.0)\n",
            "Requirement already satisfied: contourpy>=1.0.1 in c:\\users\\chenh\\anaconda3\\envs\\mlcfdpaper14\\lib\\site-packages (from matplotlib->jax-cfd[data]==0.1.0) (1.3.1)\n",
            "Requirement already satisfied: cycler>=0.10 in c:\\users\\chenh\\anaconda3\\envs\\mlcfdpaper14\\lib\\site-packages (from matplotlib->jax-cfd[data]==0.1.0) (0.12.1)\n",
            "Requirement already satisfied: fonttools>=4.22.0 in c:\\users\\chenh\\anaconda3\\envs\\mlcfdpaper14\\lib\\site-packages (from matplotlib->jax-cfd[data]==0.1.0) (4.56.0)\n",
            "Requirement already satisfied: kiwisolver>=1.3.1 in c:\\users\\chenh\\anaconda3\\envs\\mlcfdpaper14\\lib\\site-packages (from matplotlib->jax-cfd[data]==0.1.0) (1.4.8)\n",
            "Requirement already satisfied: pyparsing>=2.3.1 in c:\\users\\chenh\\anaconda3\\envs\\mlcfdpaper14\\lib\\site-packages (from matplotlib->jax-cfd[data]==0.1.0) (3.2.1)\n",
            "Requirement already satisfied: six>=1.5 in c:\\users\\chenh\\anaconda3\\envs\\mlcfdpaper14\\lib\\site-packages (from python-dateutil>=2.8.2->pandas>=2.1->xarray) (1.17.0)\n"
          ]
        }
      ],
      "source": [
        "! pip install -U xarray jax-cfd[data]==0.1.0"
      ]
    },
    {
      "cell_type": "markdown",
      "metadata": {
        "id": "X852u7zJiRXq"
      },
      "source": [
        "## Figure 1\n",
        "\n",
        "Replication of the Figure 1 from the PNAS paper, except with a [bootstrap](https://en.wikipedia.org/wiki/Bootstrapping_(statistics)) based estimation of uncertainty, given the sample size of 16 trajectories."
      ]
    },
    {
      "cell_type": "code",
      "execution_count": 2,
      "metadata": {
        "cellView": "form",
        "id": "9NMXlZX0iX3o"
      },
      "outputs": [
        {
          "ename": "AttributeError",
          "evalue": "module 'jax.numpy' has no attribute 'DeviceArray'",
          "output_type": "error",
          "traceback": [
            "\u001b[1;31m---------------------------------------------------------------------------\u001b[0m",
            "\u001b[1;31mAttributeError\u001b[0m                            Traceback (most recent call last)",
            "Cell \u001b[1;32mIn[2], line 6\u001b[0m\n\u001b[0;32m      4\u001b[0m \u001b[38;5;28;01mimport\u001b[39;00m\u001b[38;5;250m \u001b[39m\u001b[38;5;21;01mnumpy\u001b[39;00m\u001b[38;5;250m \u001b[39m\u001b[38;5;28;01mas\u001b[39;00m\u001b[38;5;250m \u001b[39m\u001b[38;5;21;01mnp\u001b[39;00m\n\u001b[0;32m      5\u001b[0m \u001b[38;5;28;01mimport\u001b[39;00m\u001b[38;5;250m \u001b[39m\u001b[38;5;21;01mpandas\u001b[39;00m\u001b[38;5;250m \u001b[39m\u001b[38;5;28;01mas\u001b[39;00m\u001b[38;5;250m \u001b[39m\u001b[38;5;21;01mpd\u001b[39;00m\n\u001b[1;32m----> 6\u001b[0m \u001b[38;5;28;01mimport\u001b[39;00m\u001b[38;5;250m \u001b[39m\u001b[38;5;21;01mjax_cfd\u001b[39;00m\u001b[38;5;21;01m.\u001b[39;00m\u001b[38;5;21;01mdata\u001b[39;00m\u001b[38;5;21;01m.\u001b[39;00m\u001b[38;5;21;01mxarray_utils\u001b[39;00m\u001b[38;5;250m \u001b[39m\u001b[38;5;28;01mas\u001b[39;00m\u001b[38;5;250m \u001b[39m\u001b[38;5;21;01mxru\u001b[39;00m\n\u001b[0;32m      7\u001b[0m \u001b[38;5;28;01mfrom\u001b[39;00m\u001b[38;5;250m \u001b[39m\u001b[38;5;21;01mjax_cfd\u001b[39;00m\u001b[38;5;21;01m.\u001b[39;00m\u001b[38;5;21;01mdata\u001b[39;00m\u001b[38;5;250m \u001b[39m\u001b[38;5;28;01mimport\u001b[39;00m evaluation\n\u001b[0;32m      8\u001b[0m \u001b[38;5;28;01mimport\u001b[39;00m\u001b[38;5;250m \u001b[39m\u001b[38;5;21;01mmatplotlib\u001b[39;00m\u001b[38;5;21;01m.\u001b[39;00m\u001b[38;5;21;01mpyplot\u001b[39;00m\u001b[38;5;250m \u001b[39m\u001b[38;5;28;01mas\u001b[39;00m\u001b[38;5;250m \u001b[39m\u001b[38;5;21;01mplt\u001b[39;00m\n",
            "File \u001b[1;32mc:\\Users\\chenh\\anaconda3\\envs\\MLCFDPaper14\\Lib\\site-packages\\jax_cfd\\__init__.py:19\u001b[0m\n\u001b[0;32m     15\u001b[0m \u001b[38;5;124;03m\"\"\"Defines the JAX-CFD module for computational fluid dynamics.\"\"\"\u001b[39;00m\n\u001b[0;32m     17\u001b[0m __version__ \u001b[38;5;241m=\u001b[39m \u001b[38;5;124m'\u001b[39m\u001b[38;5;124m0.1.0\u001b[39m\u001b[38;5;124m'\u001b[39m\n\u001b[1;32m---> 19\u001b[0m \u001b[38;5;28;01mimport\u001b[39;00m\u001b[38;5;250m \u001b[39m\u001b[38;5;21;01mjax_cfd\u001b[39;00m\u001b[38;5;21;01m.\u001b[39;00m\u001b[38;5;21;01mbase\u001b[39;00m\n",
            "File \u001b[1;32mc:\\Users\\chenh\\anaconda3\\envs\\MLCFDPaper14\\Lib\\site-packages\\jax_cfd\\base\\__init__.py:17\u001b[0m\n\u001b[0;32m      1\u001b[0m \u001b[38;5;66;03m# Copyright 2021 Google LLC\u001b[39;00m\n\u001b[0;32m      2\u001b[0m \u001b[38;5;66;03m#\u001b[39;00m\n\u001b[0;32m      3\u001b[0m \u001b[38;5;66;03m# Licensed under the Apache License, Version 2.0 (the \"License\");\u001b[39;00m\n\u001b[1;32m   (...)\u001b[0m\n\u001b[0;32m     12\u001b[0m \u001b[38;5;66;03m# See the License for the specific language governing permissions and\u001b[39;00m\n\u001b[0;32m     13\u001b[0m \u001b[38;5;66;03m# limitations under the License.\u001b[39;00m\n\u001b[0;32m     15\u001b[0m \u001b[38;5;124;03m\"\"\"Non-learned \"base\" physics routines for JAX-CFD.\"\"\"\u001b[39;00m\n\u001b[1;32m---> 17\u001b[0m \u001b[38;5;28;01mimport\u001b[39;00m\u001b[38;5;250m \u001b[39m\u001b[38;5;21;01mjax_cfd\u001b[39;00m\u001b[38;5;21;01m.\u001b[39;00m\u001b[38;5;21;01mbase\u001b[39;00m\u001b[38;5;21;01m.\u001b[39;00m\u001b[38;5;21;01madvection\u001b[39;00m\n\u001b[0;32m     18\u001b[0m \u001b[38;5;28;01mimport\u001b[39;00m\u001b[38;5;250m \u001b[39m\u001b[38;5;21;01mjax_cfd\u001b[39;00m\u001b[38;5;21;01m.\u001b[39;00m\u001b[38;5;21;01mbase\u001b[39;00m\u001b[38;5;21;01m.\u001b[39;00m\u001b[38;5;21;01marray_utils\u001b[39;00m\n\u001b[0;32m     19\u001b[0m \u001b[38;5;28;01mimport\u001b[39;00m\u001b[38;5;250m \u001b[39m\u001b[38;5;21;01mjax_cfd\u001b[39;00m\u001b[38;5;21;01m.\u001b[39;00m\u001b[38;5;21;01mbase\u001b[39;00m\u001b[38;5;21;01m.\u001b[39;00m\u001b[38;5;21;01mdiffusion\u001b[39;00m\n",
            "File \u001b[1;32mc:\\Users\\chenh\\anaconda3\\envs\\MLCFDPaper14\\Lib\\site-packages\\jax_cfd\\base\\advection.py:20\u001b[0m\n\u001b[0;32m     18\u001b[0m \u001b[38;5;28;01mimport\u001b[39;00m\u001b[38;5;250m \u001b[39m\u001b[38;5;21;01mjax\u001b[39;00m\n\u001b[0;32m     19\u001b[0m \u001b[38;5;28;01mimport\u001b[39;00m\u001b[38;5;250m \u001b[39m\u001b[38;5;21;01mjax\u001b[39;00m\u001b[38;5;21;01m.\u001b[39;00m\u001b[38;5;21;01mnumpy\u001b[39;00m\u001b[38;5;250m \u001b[39m\u001b[38;5;28;01mas\u001b[39;00m\u001b[38;5;250m \u001b[39m\u001b[38;5;21;01mjnp\u001b[39;00m\n\u001b[1;32m---> 20\u001b[0m \u001b[38;5;28;01mfrom\u001b[39;00m\u001b[38;5;250m \u001b[39m\u001b[38;5;21;01mjax_cfd\u001b[39;00m\u001b[38;5;21;01m.\u001b[39;00m\u001b[38;5;21;01mbase\u001b[39;00m\u001b[38;5;250m \u001b[39m\u001b[38;5;28;01mimport\u001b[39;00m finite_differences \u001b[38;5;28;01mas\u001b[39;00m fd\n\u001b[0;32m     21\u001b[0m \u001b[38;5;28;01mfrom\u001b[39;00m\u001b[38;5;250m \u001b[39m\u001b[38;5;21;01mjax_cfd\u001b[39;00m\u001b[38;5;21;01m.\u001b[39;00m\u001b[38;5;21;01mbase\u001b[39;00m\u001b[38;5;250m \u001b[39m\u001b[38;5;28;01mimport\u001b[39;00m grids\n\u001b[0;32m     22\u001b[0m \u001b[38;5;28;01mfrom\u001b[39;00m\u001b[38;5;250m \u001b[39m\u001b[38;5;21;01mjax_cfd\u001b[39;00m\u001b[38;5;21;01m.\u001b[39;00m\u001b[38;5;21;01mbase\u001b[39;00m\u001b[38;5;250m \u001b[39m\u001b[38;5;28;01mimport\u001b[39;00m interpolation\n",
            "File \u001b[1;32mc:\\Users\\chenh\\anaconda3\\envs\\MLCFDPaper14\\Lib\\site-packages\\jax_cfd\\base\\finite_differences.py:19\u001b[0m\n\u001b[0;32m     17\u001b[0m \u001b[38;5;28;01mimport\u001b[39;00m\u001b[38;5;250m \u001b[39m\u001b[38;5;21;01mtyping\u001b[39;00m\n\u001b[0;32m     18\u001b[0m \u001b[38;5;28;01mfrom\u001b[39;00m\u001b[38;5;250m \u001b[39m\u001b[38;5;21;01mtyping\u001b[39;00m\u001b[38;5;250m \u001b[39m\u001b[38;5;28;01mimport\u001b[39;00m Optional, Sequence, Tuple\n\u001b[1;32m---> 19\u001b[0m \u001b[38;5;28;01mfrom\u001b[39;00m\u001b[38;5;250m \u001b[39m\u001b[38;5;21;01mjax_cfd\u001b[39;00m\u001b[38;5;21;01m.\u001b[39;00m\u001b[38;5;21;01mbase\u001b[39;00m\u001b[38;5;250m \u001b[39m\u001b[38;5;28;01mimport\u001b[39;00m grids\n\u001b[0;32m     20\u001b[0m \u001b[38;5;28;01mfrom\u001b[39;00m\u001b[38;5;250m \u001b[39m\u001b[38;5;21;01mjax_cfd\u001b[39;00m\u001b[38;5;21;01m.\u001b[39;00m\u001b[38;5;21;01mbase\u001b[39;00m\u001b[38;5;250m \u001b[39m\u001b[38;5;28;01mimport\u001b[39;00m interpolation\n\u001b[0;32m     21\u001b[0m \u001b[38;5;28;01mimport\u001b[39;00m\u001b[38;5;250m \u001b[39m\u001b[38;5;21;01mnumpy\u001b[39;00m\u001b[38;5;250m \u001b[39m\u001b[38;5;28;01mas\u001b[39;00m\u001b[38;5;250m \u001b[39m\u001b[38;5;21;01mnp\u001b[39;00m\n",
            "File \u001b[1;32mc:\\Users\\chenh\\anaconda3\\envs\\MLCFDPaper14\\Lib\\site-packages\\jax_cfd\\base\\grids.py:33\u001b[0m\n\u001b[0;32m     28\u001b[0m \u001b[38;5;28;01mimport\u001b[39;00m\u001b[38;5;250m \u001b[39m\u001b[38;5;21;01mnumpy\u001b[39;00m\u001b[38;5;250m \u001b[39m\u001b[38;5;28;01mas\u001b[39;00m\u001b[38;5;250m \u001b[39m\u001b[38;5;21;01mnp\u001b[39;00m\n\u001b[0;32m     31\u001b[0m \u001b[38;5;66;03m# TODO(jamieas): consider moving common types to a separate module.\u001b[39;00m\n\u001b[0;32m     32\u001b[0m \u001b[38;5;66;03m# TODO(shoyer): consider adding jnp.ndarray?\u001b[39;00m\n\u001b[1;32m---> 33\u001b[0m Array \u001b[38;5;241m=\u001b[39m Union[np\u001b[38;5;241m.\u001b[39mndarray, \u001b[43mjnp\u001b[49m\u001b[38;5;241;43m.\u001b[39;49m\u001b[43mDeviceArray\u001b[49m]\n\u001b[0;32m     34\u001b[0m IntOrSequence \u001b[38;5;241m=\u001b[39m Union[\u001b[38;5;28mint\u001b[39m, Sequence[\u001b[38;5;28mint\u001b[39m]]\n\u001b[0;32m     36\u001b[0m \u001b[38;5;66;03m# There is currently no good way to indicate a jax \"pytree\" with arrays at its\u001b[39;00m\n\u001b[0;32m     37\u001b[0m \u001b[38;5;66;03m# leaves. See https://jax.readthedocs.io/en/latest/jax.tree_util.html for more\u001b[39;00m\n\u001b[0;32m     38\u001b[0m \u001b[38;5;66;03m# information about PyTrees and https://github.com/google/jax/issues/3340 for\u001b[39;00m\n\u001b[0;32m     39\u001b[0m \u001b[38;5;66;03m# discussion of this issue.\u001b[39;00m\n",
            "File \u001b[1;32mc:\\Users\\chenh\\anaconda3\\envs\\MLCFDPaper14\\Lib\\site-packages\\jax\\_src\\deprecations.py:57\u001b[0m, in \u001b[0;36mdeprecation_getattr.<locals>.getattr\u001b[1;34m(name)\u001b[0m\n\u001b[0;32m     55\u001b[0m   warnings\u001b[38;5;241m.\u001b[39mwarn(message, \u001b[38;5;167;01mDeprecationWarning\u001b[39;00m, stacklevel\u001b[38;5;241m=\u001b[39m\u001b[38;5;241m2\u001b[39m)\n\u001b[0;32m     56\u001b[0m   \u001b[38;5;28;01mreturn\u001b[39;00m fn\n\u001b[1;32m---> 57\u001b[0m \u001b[38;5;28;01mraise\u001b[39;00m \u001b[38;5;167;01mAttributeError\u001b[39;00m(\u001b[38;5;124mf\u001b[39m\u001b[38;5;124m\"\u001b[39m\u001b[38;5;124mmodule \u001b[39m\u001b[38;5;132;01m{\u001b[39;00mmodule\u001b[38;5;132;01m!r}\u001b[39;00m\u001b[38;5;124m has no attribute \u001b[39m\u001b[38;5;132;01m{\u001b[39;00mname\u001b[38;5;132;01m!r}\u001b[39;00m\u001b[38;5;124m\"\u001b[39m)\n",
            "\u001b[1;31mAttributeError\u001b[0m: module 'jax.numpy' has no attribute 'DeviceArray'"
          ]
        }
      ],
      "source": [
        "# @title Utility functions\n",
        "import xarray\n",
        "import seaborn\n",
        "import numpy as np\n",
        "import pandas as pd\n",
        "import jax_cfd.data.xarray_utils as xru\n",
        "from jax_cfd.data import evaluation\n",
        "import matplotlib.pyplot as plt\n",
        "\n",
        "\n",
        "def correlation(x, y):\n",
        "  state_dims = ['x', 'y']\n",
        "  p  = xru.normalize(x, state_dims) * xru.normalize(y, state_dims)\n",
        "  return p.sum(state_dims)\n",
        "\n",
        "def calculate_time_until(vorticity_corr):\n",
        "  threshold = 0.95\n",
        "  return (vorticity_corr.mean('sample') >= threshold).idxmin('time').rename('time_until')\n",
        "\n",
        "def calculate_time_until_bootstrap(vorticity_corr, bootstrap_samples=10000):\n",
        "  rs = np.random.RandomState(0)\n",
        "  indices = rs.choice(16, size=(10000, 16), replace=True)\n",
        "  boot_vorticity_corr = vorticity_corr.isel(\n",
        "      sample=(('boot', 'sample2'), indices)).rename({'sample2': 'sample'})\n",
        "  return calculate_time_until(boot_vorticity_corr)\n",
        "\n",
        "def calculate_upscaling(time_until):\n",
        "  slope = ((np.log(16) - np.log(8))\n",
        "          / (time_until.sel(model='baseline_1024')\n",
        "              - time_until.sel(model='baseline_512')))\n",
        "  x = time_until.sel(model='learned_interp_64')\n",
        "  x0 = time_until.sel(model='baseline_512')\n",
        "  intercept = np.log(8)\n",
        "  factor = np.exp(slope * (x - x0) + intercept)\n",
        "  return factor\n",
        "\n",
        "def calculate_speedup(time_until):\n",
        "  runtime_baseline_8x = 44.053293\n",
        "  runtime_baseline_16x = 412.725656\n",
        "  runtime_learned = 1.155115\n",
        "  slope = ((np.log(runtime_baseline_16x) - np.log(runtime_baseline_8x))\n",
        "          / (time_until.sel(model='baseline_1024')\n",
        "              - time_until.sel(model='baseline_512')))\n",
        "  x = time_until.sel(model='learned_interp_64')\n",
        "  x0 = time_until.sel(model='baseline_512')\n",
        "  intercept = np.log(runtime_baseline_8x)\n",
        "  speedups = np.exp(slope * (x - x0) + intercept) / runtime_learned\n",
        "  return speedups"
      ]
    },
    {
      "cell_type": "markdown",
      "metadata": {
        "id": "nfxj9dxTKAUF"
      },
      "source": [
        "### Load data"
      ]
    },
    {
      "cell_type": "code",
      "execution_count": null,
      "metadata": {
        "colab": {
          "base_uri": "https://localhost:8080/"
        },
        "executionInfo": {
          "elapsed": 55729,
          "status": "ok",
          "timestamp": 1635551143667,
          "user": {
            "displayName": "Stephan Hoyer",
            "photoUrl": "https://lh3.googleusercontent.com/a-/AOh14Gh3-wMvU44jUaVFR9jlCY_2pss4FrdtAZbLsUaV=s64",
            "userId": "01386112912994523038"
          },
          "user_tz": 420
        },
        "id": "UNivrWIsh3tL",
        "outputId": "8b5cb028-6413-444a-fdec-ad54b6e3b209"
      },
      "outputs": [],
      "source": [
        "%time ! gsutil -m cp -r gs://gresearch/jax-cfd/public_eval_datasets/kolmogorov_re_1000_fig1 /content"
      ]
    },
    {
      "cell_type": "code",
      "execution_count": null,
      "metadata": {
        "colab": {
          "base_uri": "https://localhost:8080/"
        },
        "executionInfo": {
          "elapsed": 10,
          "status": "ok",
          "timestamp": 1635551394768,
          "user": {
            "displayName": "Stephan Hoyer",
            "photoUrl": "https://lh3.googleusercontent.com/a-/AOh14Gh3-wMvU44jUaVFR9jlCY_2pss4FrdtAZbLsUaV=s64",
            "userId": "01386112912994523038"
          },
          "user_tz": 420
        },
        "id": "y2hNMbdniSdV",
        "outputId": "5ddd98a5-5f5b-4a69-917f-efd58ee26deb"
      },
      "outputs": [],
      "source": [
        "! ls /content/kolmogorov_re_1000_fig1"
      ]
    },
    {
      "cell_type": "code",
      "execution_count": null,
      "metadata": {
        "id": "JZOgcLcniX3p"
      },
      "outputs": [],
      "source": [
        "baseline_filenames = {\n",
        "    f'baseline_{r}': f'baseline_{r}x{r}.nc'\n",
        "    for r in [64, 128, 256, 512, 1024, 2048]\n",
        "}\n",
        "learned_filenames = {\n",
        "    f'learned_interp_{r}': f'learned_{r}x{r}.nc'\n",
        "    for r in [32, 64, 128]\n",
        "}\n",
        "\n",
        "models = {}\n",
        "for k, v in baseline_filenames.items():\n",
        "  models[k] = xarray.open_dataset(f'/content/kolmogorov_re_1000_fig1/{v}', chunks={'time': '100MB'})\n",
        "for k, v in learned_filenames.items():\n",
        "  ds = xarray.open_dataset(f'/content/kolmogorov_re_1000_fig1/{v}', chunks={'time': '100MB'})\n",
        "  models[k] = ds.reindex_like(models['baseline_64'], method='nearest')\n",
        "\n",
        "combined_fig1 = xarray.concat(list(models.values()), dim='model')\n",
        "combined_fig1.coords['model'] = list(models.keys())\n",
        "combined_fig1['vorticity'] = xru.vorticity_2d(combined_fig1)"
      ]
    },
    {
      "cell_type": "code",
      "execution_count": null,
      "metadata": {
        "colab": {
          "base_uri": "https://localhost:8080/",
          "height": 327
        },
        "executionInfo": {
          "elapsed": 234,
          "status": "ok",
          "timestamp": 1635551395424,
          "user": {
            "displayName": "Stephan Hoyer",
            "photoUrl": "https://lh3.googleusercontent.com/a-/AOh14Gh3-wMvU44jUaVFR9jlCY_2pss4FrdtAZbLsUaV=s64",
            "userId": "01386112912994523038"
          },
          "user_tz": 420
        },
        "id": "g-qiSd9vx2qv",
        "outputId": "4303b785-ceb2-4ab7-d9ce-c29fd5e17e4d"
      },
      "outputs": [],
      "source": [
        "# Notice that the data in Figure 1 was resampled to 32x32 for validation, the\n",
        "# coarsest resolution of any of the constitutive models.\n",
        "combined_fig1"
      ]
    },
    {
      "cell_type": "code",
      "execution_count": null,
      "metadata": {
        "id": "ZBvPD6Vs8_HD"
      },
      "outputs": [],
      "source": [
        "df_raw = pd.read_csv('/content/kolmogorov_re_1000_fig1/tpu-speed-measurements.csv').reset_index(drop=True)"
      ]
    },
    {
      "cell_type": "code",
      "execution_count": null,
      "metadata": {
        "colab": {
          "base_uri": "https://localhost:8080/",
          "height": 297
        },
        "executionInfo": {
          "elapsed": 11,
          "status": "ok",
          "timestamp": 1635551395425,
          "user": {
            "displayName": "Stephan Hoyer",
            "photoUrl": "https://lh3.googleusercontent.com/a-/AOh14Gh3-wMvU44jUaVFR9jlCY_2pss4FrdtAZbLsUaV=s64",
            "userId": "01386112912994523038"
          },
          "user_tz": 420
        },
        "id": "HpPpq0ZayGh5",
        "outputId": "6d36e653-5744-49ef-9a31-2a63fb3976f4"
      },
      "outputs": [],
      "source": [
        "# raw timing data\n",
        "df_raw"
      ]
    },
    {
      "cell_type": "markdown",
      "metadata": {
        "id": "sVFo5vWvKE5v"
      },
      "source": [
        "### Calculate headline result\n",
        "\n",
        "Note: the 85.46 vs \"86x\" number reported in the paper is because we didn't use `.thin(time=2)` for the paper (but public Colab doesn't have enough memory to avoid thinning)."
      ]
    },
    {
      "cell_type": "code",
      "execution_count": null,
      "metadata": {
        "colab": {
          "base_uri": "https://localhost:8080/"
        },
        "executionInfo": {
          "elapsed": 47663,
          "status": "ok",
          "timestamp": 1635551443079,
          "user": {
            "displayName": "Stephan Hoyer",
            "photoUrl": "https://lh3.googleusercontent.com/a-/AOh14Gh3-wMvU44jUaVFR9jlCY_2pss4FrdtAZbLsUaV=s64",
            "userId": "01386112912994523038"
          },
          "user_tz": 420
        },
        "id": "MPfnVpKgjXe1",
        "outputId": "539fcd6b-75ce-428e-ba95-c1260f5f0bb7"
      },
      "outputs": [],
      "source": [
        "%%time\n",
        "v = combined_fig1.vorticity.thin(time=2).sel(time=slice(10))\n",
        "vorticity_correlation = correlation(v, v.sel(model='baseline_2048')).compute()\n",
        "\n",
        "times = calculate_time_until(vorticity_correlation)\n",
        "times_boot = calculate_time_until_bootstrap(vorticity_correlation)\n",
        "\n",
        "speedup = calculate_speedup(times)\n",
        "print('speedup estimate:', float(speedup))\n",
        "\n",
        "speedups = calculate_speedup(times_boot)\n",
        "print('speedup bootstrap mean:', float(speedups.mean('boot')))\n",
        "print('speedup bootstrap stddev:', float(speedups.std('boot')))\n",
        "print('speedup bootstrap median:', float(speedups.median('boot')))\n",
        "print('speedup bootstrap range:', speedups.quantile(dim='boot', q=[0.05, 0.95]).values.tolist())\n",
        "\n",
        "upscaling = calculate_upscaling(times)\n",
        "print('upscaling estimate:', float(upscaling))\n",
        "\n",
        "upscalings = calculate_upscaling(times_boot)\n",
        "print('upscaling bootstrap mean:', float(upscalings.mean('boot')))\n",
        "print('upscaling bootstrap stddev:', float(upscalings.std('boot')))\n",
        "print('upscaling bootstrap median:', float(upscalings.median('boot')))\n",
        "print('upscaling bootstrap range:', upscalings.quantile(dim='boot', q=[0.05, 0.95]).values.tolist())\n"
      ]
    },
    {
      "cell_type": "markdown",
      "metadata": {
        "id": "-wcbvGfbKZIZ"
      },
      "source": [
        "The reported 86x speed-up thus should be associated with a 95% bootstrap CI of [64, 140]:"
      ]
    },
    {
      "cell_type": "code",
      "execution_count": null,
      "metadata": {
        "colab": {
          "base_uri": "https://localhost:8080/",
          "height": 295
        },
        "executionInfo": {
          "elapsed": 766,
          "status": "ok",
          "timestamp": 1635551443829,
          "user": {
            "displayName": "Stephan Hoyer",
            "photoUrl": "https://lh3.googleusercontent.com/a-/AOh14Gh3-wMvU44jUaVFR9jlCY_2pss4FrdtAZbLsUaV=s64",
            "userId": "01386112912994523038"
          },
          "user_tz": 420
        },
        "id": "x-Tv25eN0V-_",
        "outputId": "870e1a48-ac59-4b4f-eb40-8cce37172b9f"
      },
      "outputs": [],
      "source": [
        "speedups.rename('speedup factor').plot.hist(bins=50);"
      ]
    },
    {
      "cell_type": "markdown",
      "metadata": {
        "id": "9oSr3_41J2fo"
      },
      "source": [
        "### Pareto frontier plots"
      ]
    },
    {
      "cell_type": "code",
      "execution_count": null,
      "metadata": {
        "cellView": "form",
        "id": "MGOL83MQKyhV"
      },
      "outputs": [],
      "source": [
        "#@title Prepare dataframe\n",
        "df = (\n",
        "    df_raw\n",
        "    .drop(['model', 'resolution', 'msec_per_sim_step'], axis=1)\n",
        "    .set_index('model_name')\n",
        "    .join(\n",
        "        times.rename({'model': 'model_name'}).to_dataframe()\n",
        "    )\n",
        "    .join(\n",
        "        times_boot\n",
        "        .quantile(q=0.975, dim='boot')\n",
        "        .drop('quantile')\n",
        "        .rename('time_until_upper')\n",
        "        .rename({'model': 'model_name'})\n",
        "        .to_dataframe()\n",
        "    )\n",
        "    .join(\n",
        "        times_boot\n",
        "        .quantile(q=0.025, dim='boot')\n",
        "        .drop('quantile')\n",
        "        .rename('time_until_lower')\n",
        "        .rename({'model': 'model_name'})\n",
        "        .to_dataframe()\n",
        "    )\n",
        "    .reset_index()\n",
        ")\n",
        "df[['model', 'resolution']] = df.model_name.str.rsplit('_', 1, expand=True)\n",
        "df['resolution'] = df['resolution'].astype(int)\n",
        "# switch units from \"msec per time step at 64x64\" to\n",
        "# \"sec per simulation time step\"\n",
        "df['sec_per_sim_time'] = df['msec_per_dt'] / 0.007012 * 1e-3\n",
        "df = df.sort_values(['resolution', 'model'])"
      ]
    },
    {
      "cell_type": "code",
      "execution_count": null,
      "metadata": {
        "cellView": "form",
        "colab": {
          "base_uri": "https://localhost:8080/",
          "height": 340
        },
        "executionInfo": {
          "elapsed": 586,
          "status": "ok",
          "timestamp": 1635551444411,
          "user": {
            "displayName": "Stephan Hoyer",
            "photoUrl": "https://lh3.googleusercontent.com/a-/AOh14Gh3-wMvU44jUaVFR9jlCY_2pss4FrdtAZbLsUaV=s64",
            "userId": "01386112912994523038"
          },
          "user_tz": 420
        },
        "id": "MqowuhH6CNY4",
        "outputId": "49c3ee4f-fa87-488f-8549-4f17c857517a"
      },
      "outputs": [],
      "source": [
        "#@title Pareto frontier with uncertainty\n",
        "\n",
        "plt.figure(figsize=(5, 5))\n",
        "\n",
        "df_baseline = df.query('model==\"baseline\"')\n",
        "plt.errorbar(df_baseline.time_until,\n",
        "             df_baseline.sec_per_sim_time,\n",
        "             xerr=(df_baseline.time_until - df_baseline.time_until_lower,\n",
        "                   df_baseline.time_until_upper - df_baseline.time_until),\n",
        "             marker='s',\n",
        "             label='baseline')\n",
        "\n",
        "df_baseline = df.query('model==\"learned_interp\"')\n",
        "plt.errorbar(df_baseline.time_until,\n",
        "             df_baseline.sec_per_sim_time,\n",
        "             xerr=(df_baseline.time_until - df_baseline.time_until_lower,\n",
        "                   df_baseline.time_until_upper - df_baseline.time_until),\n",
        "             marker='s',\n",
        "             label='learned')\n",
        "\n",
        "plt.xlim(0, 8.1)\n",
        "plt.ylim(1.5e-2, 1e3)\n",
        "plt.xlabel('Time until correlation < 0.95')\n",
        "plt.ylabel('Runtime per time unit (s)')\n",
        "plt.yscale('log')\n",
        "plt.legend()\n",
        "seaborn.despine()"
      ]
    },
    {
      "cell_type": "code",
      "execution_count": null,
      "metadata": {
        "cellView": "form",
        "colab": {
          "base_uri": "https://localhost:8080/",
          "height": 338
        },
        "executionInfo": {
          "elapsed": 592,
          "status": "ok",
          "timestamp": 1635551444999,
          "user": {
            "displayName": "Stephan Hoyer",
            "photoUrl": "https://lh3.googleusercontent.com/a-/AOh14Gh3-wMvU44jUaVFR9jlCY_2pss4FrdtAZbLsUaV=s64",
            "userId": "01386112912994523038"
          },
          "user_tz": 420
        },
        "id": "o4d1MUSpEuW0",
        "outputId": "3a82fb9c-3a60-433d-bd5e-7311f4324aff"
      },
      "outputs": [],
      "source": [
        "#@title Pareto frontier (transposed) with uncertainty\n",
        "plt.figure(figsize=(5, 5))\n",
        "\n",
        "df_baseline = df.query('model==\"baseline\"')\n",
        "plt.errorbar(df_baseline.sec_per_sim_time,\n",
        "             df_baseline.time_until,\n",
        "             yerr=(df_baseline.time_until - df_baseline.time_until_lower,\n",
        "                   df_baseline.time_until_upper - df_baseline.time_until),\n",
        "             marker='s',\n",
        "             label='baseline')\n",
        "\n",
        "df_baseline = df.query('model==\"learned_interp\"')\n",
        "plt.errorbar(df_baseline.sec_per_sim_time,\n",
        "             df_baseline.time_until,\n",
        "             yerr=(df_baseline.time_until - df_baseline.time_until_lower,\n",
        "                   df_baseline.time_until_upper - df_baseline.time_until),\n",
        "             marker='s',\n",
        "             label='learned')\n",
        "\n",
        "plt.ylim(0, 8.1)\n",
        "plt.xlim(1.5e-2, 1e3)\n",
        "plt.ylabel('Time until correlation < 0.95')\n",
        "plt.xlabel('Runtime per time unit (s)')\n",
        "plt.xscale('log')\n",
        "plt.legend()\n",
        "seaborn.despine()"
      ]
    },
    {
      "cell_type": "markdown",
      "metadata": {
        "id": "Dv4zYWK59GcS"
      },
      "source": [
        "## Figure 2\n",
        "\n",
        "Here we reproduce the key parts of Figure 2, from scratch.\n",
        "\n",
        "Note that Figure 2 (and Figure 5) inadvertently used a different evaluation dataset than Figure 1 (different random initial velocity fields), saved at 64x64 resolution."
      ]
    },
    {
      "cell_type": "markdown",
      "metadata": {
        "id": "23M_zG6O6w_j"
      },
      "source": [
        "### Copy data"
      ]
    },
    {
      "cell_type": "code",
      "execution_count": null,
      "metadata": {
        "colab": {
          "base_uri": "https://localhost:8080/"
        },
        "executionInfo": {
          "elapsed": 41717,
          "status": "ok",
          "timestamp": 1635551185377,
          "user": {
            "displayName": "Stephan Hoyer",
            "photoUrl": "https://lh3.googleusercontent.com/a-/AOh14Gh3-wMvU44jUaVFR9jlCY_2pss4FrdtAZbLsUaV=s64",
            "userId": "01386112912994523038"
          },
          "user_tz": 420
        },
        "id": "6bJ-PkDw1tmd",
        "outputId": "74344e2e-cbad-4617-ee20-b3b7890e80e3"
      },
      "outputs": [],
      "source": [
        "%time ! gsutil -m cp gs://gresearch/jax-cfd/public_eval_datasets/kolmogorov_re_1000/learned*.nc /content"
      ]
    },
    {
      "cell_type": "code",
      "execution_count": null,
      "metadata": {
        "colab": {
          "base_uri": "https://localhost:8080/"
        },
        "executionInfo": {
          "elapsed": 209396,
          "status": "ok",
          "timestamp": 1635551394767,
          "user": {
            "displayName": "Stephan Hoyer",
            "photoUrl": "https://lh3.googleusercontent.com/a-/AOh14Gh3-wMvU44jUaVFR9jlCY_2pss4FrdtAZbLsUaV=s64",
            "userId": "01386112912994523038"
          },
          "user_tz": 420
        },
        "id": "kUtRFyDgzyN9",
        "outputId": "2a4df49a-3c19-4440-beee-a428017065a8"
      },
      "outputs": [],
      "source": [
        "%time ! gsutil -m cp gs://gresearch/jax-cfd/public_eval_datasets/kolmogorov_re_1000/long_eval*.nc /content"
      ]
    },
    {
      "cell_type": "markdown",
      "metadata": {
        "id": "wTfEmQPZ1YiT"
      },
      "source": [
        "### Load data at 64x64 and 32x32 resolutions"
      ]
    },
    {
      "cell_type": "code",
      "execution_count": null,
      "metadata": {
        "id": "MVbarBes3tAJ"
      },
      "outputs": [],
      "source": [
        "import xarray\n",
        "import seaborn\n",
        "import jax_cfd.data.xarray_utils as xru\n",
        "from jax_cfd.data import evaluation\n",
        "import matplotlib.pyplot as plt\n",
        "\n",
        "baseline_palette = seaborn.color_palette('YlGnBu', n_colors=7)[1:]\n",
        "models_color = seaborn.xkcd_palette(['burnt orange'])\n",
        "palette = baseline_palette + models_color\n"
      ]
    },
    {
      "cell_type": "code",
      "execution_count": null,
      "metadata": {
        "id": "9oirn2QI2REz"
      },
      "outputs": [],
      "source": [
        "filenames = {\n",
        "    f'baseline_{r}': f'long_eval_{r}x{r}_64x64.nc'\n",
        "    for r in [64, 128, 256, 512, 1024, 2048]\n",
        "}\n",
        "filenames['learned_interp_64'] = 'learned_interpolation_long_eval_64x64_64x64.nc'\n",
        "\n",
        "models = {}\n",
        "for k, v in filenames.items():\n",
        "  models[k] = xarray.open_dataset(f'/content/{v}', chunks={'time': '100MB'})\n",
        "\n",
        "combined = xarray.concat(list(models.values()), dim='model')\n",
        "combined.coords['model'] = list(models.keys())\n",
        "combined['vorticity'] = xru.vorticity_2d(combined)"
      ]
    },
    {
      "cell_type": "code",
      "execution_count": null,
      "metadata": {
        "id": "ExfQo-OEJJI4"
      },
      "outputs": [],
      "source": [
        "from jax_cfd.base import resize\n",
        "import numpy as np\n",
        "import pandas as pd\n",
        "\n",
        "def resize_64_to_32(ds):\n",
        "  coarse = xarray.Dataset({\n",
        "      'u': ds.u.isel(x=slice(1, None, 2)).coarsen(y=2, coord_func='max').mean(),\n",
        "      'v': ds.v.isel(y=slice(1, None, 2)).coarsen(x=2, coord_func='max').mean(),\n",
        "  })\n",
        "  coarse.attrs = ds.attrs\n",
        "  return coarse\n",
        "\n",
        "combined_32 = resize_64_to_32(combined)\n",
        "combined_32['vorticity'] = xru.vorticity_2d(combined_32)\n",
        "\n",
        "models_32 = {k: resize_64_to_32(v) for k, v in models.items()}"
      ]
    },
    {
      "cell_type": "markdown",
      "metadata": {
        "id": "XNXcB-Bw6-zK"
      },
      "source": [
        "### Plot solutions: Fig 2(a)"
      ]
    },
    {
      "cell_type": "code",
      "execution_count": null,
      "metadata": {
        "colab": {
          "base_uri": "https://localhost:8080/",
          "height": 327
        },
        "executionInfo": {
          "elapsed": 7,
          "status": "ok",
          "timestamp": 1635551445632,
          "user": {
            "displayName": "Stephan Hoyer",
            "photoUrl": "https://lh3.googleusercontent.com/a-/AOh14Gh3-wMvU44jUaVFR9jlCY_2pss4FrdtAZbLsUaV=s64",
            "userId": "01386112912994523038"
          },
          "user_tz": 420
        },
        "id": "tFMn09mfkGQX",
        "outputId": "9a9ce456-318f-4dea-9f04-7ecb35c475f1"
      },
      "outputs": [],
      "source": [
        "combined_32"
      ]
    },
    {
      "cell_type": "code",
      "execution_count": null,
      "metadata": {
        "colab": {
          "base_uri": "https://localhost:8080/",
          "height": 1000
        },
        "executionInfo": {
          "elapsed": 61916,
          "status": "ok",
          "timestamp": 1635551507543,
          "user": {
            "displayName": "Stephan Hoyer",
            "photoUrl": "https://lh3.googleusercontent.com/a-/AOh14Gh3-wMvU44jUaVFR9jlCY_2pss4FrdtAZbLsUaV=s64",
            "userId": "01386112912994523038"
          },
          "user_tz": 420
        },
        "id": "zFinZ9ARiqqU",
        "outputId": "5d31afee-d929-44de-ee3f-1df4c284c0d9"
      },
      "outputs": [],
      "source": [
        "combined.vorticity.isel(sample=0).thin(time=50).head(time=5).plot.imshow(\n",
        "    row='model', col='time', x='x', y='y', robust=True, size=2.3, aspect=0.9,\n",
        "    add_colorbar=False, cmap=seaborn.cm.icefire, vmin=-10, vmax=10)"
      ]
    },
    {
      "cell_type": "markdown",
      "metadata": {
        "id": "W_U-Fj4A7BvH"
      },
      "source": [
        "### Calculate speed-up\n",
        "\n",
        "We can calculate speed-up based upon vorticity correlation either at a resolution of 32x32 or 64x64. The numbers are similar.\n",
        "\n",
        "Note that our ML models are slightly more effective than the FVM method on these dataset (138x vs 86x speedup), but still within the range of uncertainty."
      ]
    },
    {
      "cell_type": "code",
      "execution_count": null,
      "metadata": {
        "colab": {
          "base_uri": "https://localhost:8080/"
        },
        "executionInfo": {
          "elapsed": 9344,
          "status": "ok",
          "timestamp": 1635551516869,
          "user": {
            "displayName": "Stephan Hoyer",
            "photoUrl": "https://lh3.googleusercontent.com/a-/AOh14Gh3-wMvU44jUaVFR9jlCY_2pss4FrdtAZbLsUaV=s64",
            "userId": "01386112912994523038"
          },
          "user_tz": 420
        },
        "id": "78pQ0PjD5QNL",
        "outputId": "fffa4b8d-af6a-45dc-9b31-6986fb996615"
      },
      "outputs": [],
      "source": [
        "%%time\n",
        "v = combined_32.vorticity.sel(time=slice(20))\n",
        "vorticity_correlation = correlation(v, v.sel(model='baseline_2048')).compute()\n",
        "\n",
        "times = calculate_time_until(vorticity_correlation)\n",
        "times_boot = calculate_time_until_bootstrap(vorticity_correlation)\n",
        "\n",
        "speedup = calculate_speedup(times)\n",
        "print('speedup estimate:', float(speedup))\n",
        "\n",
        "speedups = calculate_speedup(times_boot)\n",
        "print('speedup bootstrap mean:', float(speedups.mean('boot')))\n",
        "print('speedup bootstrap stddev:', float(speedups.std('boot')))\n",
        "print('speedup bootstrap median:', float(speedups.median('boot')))\n",
        "print('speedup bootstrap range:', speedups.quantile(dim='boot', q=[0.05, 0.95]).values.tolist())\n",
        "\n",
        "upscaling = calculate_upscaling(times)\n",
        "print('upscaling estimate:', float(upscaling))\n",
        "\n",
        "upscalings = calculate_upscaling(times_boot)\n",
        "print('upscaling bootstrap mean:', float(upscalings.mean('boot')))\n",
        "print('upscaling bootstrap stddev:', float(upscalings.std('boot')))\n",
        "print('upscaling bootstrap median:', float(upscalings.median('boot')))\n",
        "print('upscaling bootstrap range:', upscalings.quantile(dim='boot', q=[0.05, 0.95]).values.tolist())\n"
      ]
    },
    {
      "cell_type": "code",
      "execution_count": null,
      "metadata": {
        "colab": {
          "base_uri": "https://localhost:8080/"
        },
        "executionInfo": {
          "elapsed": 8636,
          "status": "ok",
          "timestamp": 1635551525494,
          "user": {
            "displayName": "Stephan Hoyer",
            "photoUrl": "https://lh3.googleusercontent.com/a-/AOh14Gh3-wMvU44jUaVFR9jlCY_2pss4FrdtAZbLsUaV=s64",
            "userId": "01386112912994523038"
          },
          "user_tz": 420
        },
        "id": "nStmzvTn5vt0",
        "outputId": "02072209-ac60-4df2-c7d8-4c9af7b82696"
      },
      "outputs": [],
      "source": [
        "%%time\n",
        "v = combined.vorticity.sel(time=slice(20))\n",
        "vorticity_correlation = correlation(v, v.sel(model='baseline_2048')).compute()\n",
        "\n",
        "times = calculate_time_until(vorticity_correlation)\n",
        "times_boot = calculate_time_until_bootstrap(vorticity_correlation)\n",
        "\n",
        "speedup = calculate_speedup(times)\n",
        "print('speedup estimate:', float(speedup))\n",
        "\n",
        "speedups = calculate_speedup(times_boot)\n",
        "print('speedup bootstrap mean:', float(speedups.mean('boot')))\n",
        "print('speedup bootstrap stddev:', float(speedups.std('boot')))\n",
        "print('speedup bootstrap median:', float(speedups.median('boot')))\n",
        "print('speedup bootstrap range:', speedups.quantile(dim='boot', q=[0.05, 0.95]).values.tolist())\n",
        "\n",
        "upscaling = calculate_upscaling(times)\n",
        "print('upscaling estimate:', float(upscaling))\n",
        "\n",
        "upscalings = calculate_upscaling(times_boot)\n",
        "print('upscaling bootstrap mean:', float(upscalings.mean('boot')))\n",
        "print('upscaling bootstrap stddev:', float(upscalings.std('boot')))\n",
        "print('upscaling bootstrap median:', float(upscalings.median('boot')))\n",
        "print('upscaling bootstrap range:', upscalings.quantile(dim='boot', q=[0.05, 0.95]).values.tolist())\n"
      ]
    },
    {
      "cell_type": "code",
      "execution_count": null,
      "metadata": {
        "colab": {
          "base_uri": "https://localhost:8080/",
          "height": 295
        },
        "executionInfo": {
          "elapsed": 215,
          "status": "ok",
          "timestamp": 1635551525706,
          "user": {
            "displayName": "Stephan Hoyer",
            "photoUrl": "https://lh3.googleusercontent.com/a-/AOh14Gh3-wMvU44jUaVFR9jlCY_2pss4FrdtAZbLsUaV=s64",
            "userId": "01386112912994523038"
          },
          "user_tz": 420
        },
        "id": "PqaVAd3I7kOA",
        "outputId": "f1dfcaab-112d-4c6b-d6a8-780d6418cd4b"
      },
      "outputs": [],
      "source": [
        "speedups.rename('speedup factor').plot.hist(bins=50);"
      ]
    },
    {
      "cell_type": "markdown",
      "metadata": {
        "id": "mJmmcyMw7AhI"
      },
      "source": [
        "### Calculate metrics"
      ]
    },
    {
      "cell_type": "code",
      "execution_count": null,
      "metadata": {
        "colab": {
          "base_uri": "https://localhost:8080/"
        },
        "executionInfo": {
          "elapsed": 52831,
          "status": "ok",
          "timestamp": 1635551578534,
          "user": {
            "displayName": "Stephan Hoyer",
            "photoUrl": "https://lh3.googleusercontent.com/a-/AOh14Gh3-wMvU44jUaVFR9jlCY_2pss4FrdtAZbLsUaV=s64",
            "userId": "01386112912994523038"
          },
          "user_tz": 420
        },
        "id": "LDKCKaKm3-43",
        "outputId": "3afabcce-cf09-46d5-d2a9-f3824069f56f"
      },
      "outputs": [],
      "source": [
        "%%time\n",
        "summary = xarray.concat([\n",
        "    evaluation.compute_summary_dataset(ds, models['baseline_2048'])\n",
        "    for ds in models.values()\n",
        "], dim='model')\n",
        "summary.coords['model'] = list(models.keys())"
      ]
    },
    {
      "cell_type": "code",
      "execution_count": null,
      "metadata": {
        "colab": {
          "base_uri": "https://localhost:8080/",
          "height": 222
        },
        "executionInfo": {
          "elapsed": 238,
          "status": "ok",
          "timestamp": 1635551578759,
          "user": {
            "displayName": "Stephan Hoyer",
            "photoUrl": "https://lh3.googleusercontent.com/a-/AOh14Gh3-wMvU44jUaVFR9jlCY_2pss4FrdtAZbLsUaV=s64",
            "userId": "01386112912994523038"
          },
          "user_tz": 420
        },
        "id": "Bdm2XuPl5M1J",
        "outputId": "f9635572-ad01-4aac-e1e9-19bab975988e"
      },
      "outputs": [],
      "source": [
        "summary"
      ]
    },
    {
      "cell_type": "code",
      "execution_count": null,
      "metadata": {
        "colab": {
          "base_uri": "https://localhost:8080/"
        },
        "executionInfo": {
          "elapsed": 9415,
          "status": "ok",
          "timestamp": 1635551588170,
          "user": {
            "displayName": "Stephan Hoyer",
            "photoUrl": "https://lh3.googleusercontent.com/a-/AOh14Gh3-wMvU44jUaVFR9jlCY_2pss4FrdtAZbLsUaV=s64",
            "userId": "01386112912994523038"
          },
          "user_tz": 420
        },
        "id": "BAeYoRKN6S0p",
        "outputId": "c1385683-c042-4707-e822-2f47e3d3d871"
      },
      "outputs": [],
      "source": [
        "%time correlation = summary.vorticity_correlation.sel(time=slice(20)).compute()"
      ]
    },
    {
      "cell_type": "code",
      "execution_count": null,
      "metadata": {
        "colab": {
          "base_uri": "https://localhost:8080/"
        },
        "executionInfo": {
          "elapsed": 180133,
          "status": "ok",
          "timestamp": 1635551768289,
          "user": {
            "displayName": "Stephan Hoyer",
            "photoUrl": "https://lh3.googleusercontent.com/a-/AOh14Gh3-wMvU44jUaVFR9jlCY_2pss4FrdtAZbLsUaV=s64",
            "userId": "01386112912994523038"
          },
          "user_tz": 420
        },
        "id": "O69M1xI96_ZU",
        "outputId": "4e22e587-0133-4371-b36d-01dafb1d38ce"
      },
      "outputs": [],
      "source": [
        "%time spectrum = summary.energy_spectrum_mean.tail(time=2000).mean('time').compute()"
      ]
    },
    {
      "cell_type": "markdown",
      "metadata": {
        "id": "MI7EsVRXcIyI"
      },
      "source": [
        "### Plot correlation over time: Fig 2(b)"
      ]
    },
    {
      "cell_type": "code",
      "execution_count": null,
      "metadata": {
        "colab": {
          "base_uri": "https://localhost:8080/",
          "height": 405
        },
        "executionInfo": {
          "elapsed": 548,
          "status": "ok",
          "timestamp": 1635551768828,
          "user": {
            "displayName": "Stephan Hoyer",
            "photoUrl": "https://lh3.googleusercontent.com/a-/AOh14Gh3-wMvU44jUaVFR9jlCY_2pss4FrdtAZbLsUaV=s64",
            "userId": "01386112912994523038"
          },
          "user_tz": 420
        },
        "id": "QN1EySqC3a1h",
        "outputId": "f09fb92d-c7f3-4837-b18f-778332daa8f9"
      },
      "outputs": [],
      "source": [
        "plt.figure(figsize=(7, 6))\n",
        "for color, model in zip(palette, summary['model'].data):\n",
        "  style = '-' if 'baseline' in model else '--'\n",
        "  correlation.sel(model=model).plot.line(\n",
        "      color=color, linestyle=style, label=model, linewidth=3);\n",
        "plt.axhline(y=0.95, xmin=0, xmax=20, color='gray')\n",
        "plt.legend();\n",
        "plt.title('')\n",
        "plt.xlim(0, 15)"
      ]
    },
    {
      "cell_type": "markdown",
      "metadata": {
        "id": "oA6j1EcecMTZ"
      },
      "source": [
        "### Plot spectrum: Fig 2(c)"
      ]
    },
    {
      "cell_type": "code",
      "execution_count": null,
      "metadata": {
        "colab": {
          "base_uri": "https://localhost:8080/",
          "height": 409
        },
        "executionInfo": {
          "elapsed": 792,
          "status": "ok",
          "timestamp": 1635551769614,
          "user": {
            "displayName": "Stephan Hoyer",
            "photoUrl": "https://lh3.googleusercontent.com/a-/AOh14Gh3-wMvU44jUaVFR9jlCY_2pss4FrdtAZbLsUaV=s64",
            "userId": "01386112912994523038"
          },
          "user_tz": 420
        },
        "id": "CNN1GuKc9S6L",
        "outputId": "e8404efd-06e3-4d44-8e0e-ba3c6e338895"
      },
      "outputs": [],
      "source": [
        "plt.figure(figsize=(10, 6))\n",
        "for color, model in zip(palette, summary['model'].data):\n",
        "  style = '-' if 'baseline' in model else '--'\n",
        "  (spectrum.k ** 5 * spectrum).sel(model=model).plot.line(\n",
        "      color=color, linestyle=style, label=model, linewidth=3);\n",
        "plt.legend();\n",
        "plt.yscale('log')\n",
        "plt.xscale('log')\n",
        "plt.title('')\n",
        "plt.xlim(3.5, None)\n",
        "plt.ylim(1e9, None)"
      ]
    }
  ],
  "metadata": {
    "colab": {
      "collapsed_sections": [],
      "name": "ML accelerated CFD data analysis.ipynb",
      "provenance": [
        {
          "file_id": "1qPDCx7Zctr9FZKnNeKBrPUncuODiiesh",
          "timestamp": 1635551846799
        }
      ]
    },
    "kernelspec": {
      "display_name": "MLCFDPaper14",
      "language": "python",
      "name": "python3"
    },
    "language_info": {
      "codemirror_mode": {
        "name": "ipython",
        "version": 3
      },
      "file_extension": ".py",
      "mimetype": "text/x-python",
      "name": "python",
      "nbconvert_exporter": "python",
      "pygments_lexer": "ipython3",
      "version": "3.13.2"
    }
  },
  "nbformat": 4,
  "nbformat_minor": 0
}
